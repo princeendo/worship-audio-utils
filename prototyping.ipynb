{
 "cells": [
  {
   "cell_type": "code",
   "execution_count": 8,
   "id": "78940ec5",
   "metadata": {},
   "outputs": [],
   "source": [
    "import audio_processing_helpers as aph\n",
    "import song_joiner as joiner\n",
    "import re\n",
    "import os"
   ]
  },
  {
   "cell_type": "code",
   "execution_count": 11,
   "id": "e2f127a4",
   "metadata": {},
   "outputs": [],
   "source": [
    "dir_ = \"/Users/fairviewmedia/Media/Music/MultiTracks/Holy Forever - Always\"\n",
    "for item in os.listdir(dir_):\n",
    "    if os.path.isdir(os.path.join(dir_, item)):\n",
    "        d = os.path.join(dir_, item)\n",
    "\n",
    "\n",
    "        pairs = joiner.find_pairs(d)\n",
    "\n",
    "        for p in pairs:\n",
    "            p.make_split_wav()"
   ]
  },
  {
   "cell_type": "code",
   "execution_count": null,
   "id": "c93c9a36",
   "metadata": {},
   "outputs": [],
   "source": [
    "pattern = (\n",
    "    r'^(?!\\.)(?P<title>.+?)(?:-(?P<chord>[A-G](?:b|#)?)'\n",
    "    r'(?:-with Background Vocals)?)'\n",
    "    r'?-Trimmed_(?P<trim_length>\\d+(?:\\.\\d+)?)s\\.m4a$'\n",
    " )\n",
    "\n",
    "sample = dict(title='hey', chord='C', '')\n",
    "\n",
    "pattern.format_map()"
   ]
  }
 ],
 "metadata": {
  "kernelspec": {
   "display_name": "fairviewmusic",
   "language": "python",
   "name": "python3"
  },
  "language_info": {
   "codemirror_mode": {
    "name": "ipython",
    "version": 3
   },
   "file_extension": ".py",
   "mimetype": "text/x-python",
   "name": "python",
   "nbconvert_exporter": "python",
   "pygments_lexer": "ipython3",
   "version": "3.11.12"
  }
 },
 "nbformat": 4,
 "nbformat_minor": 5
}
