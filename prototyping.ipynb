{
 "cells": [
  {
   "cell_type": "code",
   "execution_count": 1,
   "id": "78940ec5",
   "metadata": {},
   "outputs": [],
   "source": [
    "import audio_processing_helpers as aph\n",
    "import song_joiner as joiner\n",
    "import re\n",
    "import os"
   ]
  },
  {
   "cell_type": "code",
   "execution_count": 7,
   "id": "9d9ffadd",
   "metadata": {},
   "outputs": [],
   "source": [
    "import os\n",
    "import re\n",
    "from dataclasses import dataclass, field\n",
    "from typing import Dict, List, Tuple\n",
    "import audio_processing_helpers as aph"
   ]
  },
  {
   "cell_type": "code",
   "execution_count": 8,
   "id": "c50f25ff",
   "metadata": {},
   "outputs": [
    {
     "ename": "TypeError",
     "evalue": "attribute name must be string, not 'function'",
     "output_type": "error",
     "traceback": [
      "\u001b[31m---------------------------------------------------------------------------\u001b[39m",
      "\u001b[31mTypeError\u001b[39m                                 Traceback (most recent call last)",
      "\u001b[36mCell\u001b[39m\u001b[36m \u001b[39m\u001b[32mIn[8]\u001b[39m\u001b[32m, line 23\u001b[39m\n\u001b[32m     21\u001b[39m \u001b[38;5;28;01mif\u001b[39;00m \u001b[38;5;28mlen\u001b[39m(list_) == \u001b[32m2\u001b[39m:\n\u001b[32m     22\u001b[39m     bare, bgv = \u001b[38;5;28msorted\u001b[39m(list_, key=\u001b[38;5;28;01mlambda\u001b[39;00m x: x.has_bgv)\n\u001b[32m---> \u001b[39m\u001b[32m23\u001b[39m     song_data.append(\u001b[43mjoiner\u001b[49m\u001b[43m.\u001b[49m\u001b[43mSongData\u001b[49m\u001b[43m(\u001b[49m\u001b[43mbare\u001b[49m\u001b[43m=\u001b[49m\u001b[43mbare\u001b[49m\u001b[43m,\u001b[49m\u001b[43m \u001b[49m\u001b[43mbgv\u001b[49m\u001b[43m=\u001b[49m\u001b[43mbgv\u001b[49m\u001b[43m)\u001b[49m)\n",
      "\u001b[36mFile \u001b[39m\u001b[32m<string>:5\u001b[39m, in \u001b[36m__init__\u001b[39m\u001b[34m(self, bare, bgv)\u001b[39m\n",
      "\u001b[36mFile \u001b[39m\u001b[32m~/workspace/worship-audio-utils/song_joiner.py:48\u001b[39m, in \u001b[36mSongData.__post_init__\u001b[39m\u001b[34m(self)\u001b[39m\n\u001b[32m     46\u001b[39m \u001b[38;5;28;01massert\u001b[39;00m \u001b[38;5;28mself\u001b[39m.bgv.has_bgv\n\u001b[32m     47\u001b[39m \u001b[38;5;28;01mfor\u001b[39;00m field_ \u001b[38;5;129;01min\u001b[39;00m [\u001b[33m\"\u001b[39m\u001b[33mtitle\u001b[39m\u001b[33m\"\u001b[39m, \u001b[33m\"\u001b[39m\u001b[33mchord\u001b[39m\u001b[33m\"\u001b[39m, \u001b[33m\"\u001b[39m\u001b[33mtrim_length\u001b[39m\u001b[33m\"\u001b[39m]:\n\u001b[32m---> \u001b[39m\u001b[32m48\u001b[39m     \u001b[38;5;28;01massert\u001b[39;00m \u001b[38;5;28mgetattr\u001b[39m(\u001b[38;5;28mself\u001b[39m.bare, field_) == \u001b[38;5;28;43mgetattr\u001b[39;49m\u001b[43m(\u001b[49m\u001b[38;5;28;43mself\u001b[39;49m\u001b[43m.\u001b[49m\u001b[43mbgv\u001b[49m\u001b[43m,\u001b[49m\u001b[43m \u001b[49m\u001b[43mfield\u001b[49m\u001b[43m)\u001b[49m\n",
      "\u001b[31mTypeError\u001b[39m: attribute name must be string, not 'function'"
     ]
    }
   ],
   "source": [
    "path = \"/Users/fairviewmedia/Media/Music/MultiTracks/Man of Sorrows - At Easter/E\"\n",
    "tracker: Dict[Tuple[str, str, float], List[joiner.TrimmedMusicFile]] = {}\n",
    "for item in os.listdir(path):\n",
    "    mo = re.match(joiner.pattern, item)\n",
    "    if mo:\n",
    "        try:\n",
    "            music_file = joiner.TrimmedMusicFile(os.path.join(path, item))\n",
    "            key = (\n",
    "                music_file.title,\n",
    "                music_file.chord,\n",
    "                music_file.trim_length,\n",
    "            )\n",
    "            if key not in tracker:\n",
    "                tracker[key] = [music_file]\n",
    "            else:\n",
    "                tracker[key].append(music_file)\n",
    "        except Exception as e:\n",
    "            print(f\"Error processing file {item}: {e}\")\n",
    "song_data: List[joiner.SongData] = []\n",
    "for list_ in tracker.values():\n",
    "    if len(list_) == 2:\n",
    "        bare, bgv = sorted(list_, key=lambda x: x.has_bgv)\n",
    "        song_data.append(joiner.SongData(bare=bare, bgv=bgv))\n"
   ]
  },
  {
   "cell_type": "code",
   "execution_count": 10,
   "id": "e2d671fb",
   "metadata": {},
   "outputs": [
    {
     "data": {
      "text/plain": [
       "(TrimmedMusicFile(path='/Users/fairviewmedia/Media/Music/MultiTracks/Man of Sorrows - At Easter/E/Man of Sorrows-E-Trimmed_6.4205s.m4a', title='Man of Sorrows', chord='E', trim_length=6.4205, has_bgv=False),\n",
       " TrimmedMusicFile(path='/Users/fairviewmedia/Media/Music/MultiTracks/Man of Sorrows - At Easter/E/Man of Sorrows-E-with Background Vocals-Trimmed_6.4205s.m4a', title='Man of Sorrows', chord='E', trim_length=6.4205, has_bgv=True))"
      ]
     },
     "execution_count": 10,
     "metadata": {},
     "output_type": "execute_result"
    }
   ],
   "source": [
    "bare, bgv"
   ]
  },
  {
   "cell_type": "code",
   "execution_count": null,
   "id": "e2f127a4",
   "metadata": {},
   "outputs": [],
   "source": [
    "topdir = \"/Users/fairviewmedia/Media/Music/MultiTracks/\"\n",
    "for root, dirs, _ in os.walk(topdir):\n",
    "    for dir_ in dirs:\n",
    "        fulldir = os.path.join(root, dir_)\n",
    "        pairs = joiner.find_pairs(fulldir)\n",
    "\n",
    "        for p in pairs:\n",
    "            if not os.path.exists(p.wav_path):\n",
    "                p.make_split_wav()"
   ]
  },
  {
   "cell_type": "code",
   "execution_count": null,
   "id": "c93c9a36",
   "metadata": {},
   "outputs": [],
   "source": [
    "pattern = (\n",
    "    r'^(?!\\.)(?P<title>.+?)(?:-(?P<chord>[A-G](?:b|#)?)'\n",
    "    r'(?:-with Background Vocals)?)'\n",
    "    r'?-Trimmed_(?P<trim_length>\\d+(?:\\.\\d+)?)s\\.m4a$'\n",
    " )\n",
    "\n",
    "sample = dict(title='hey', chord='C', '')\n",
    "\n",
    "pattern.format_map()"
   ]
  },
  {
   "cell_type": "code",
   "execution_count": 17,
   "id": "6454e758",
   "metadata": {},
   "outputs": [],
   "source": [
    "import subprocess\n",
    "import numpy as np\n",
    "from scipy.signal import correlate\n",
    "from numpy.typing import ArrayLike\n",
    "\n",
    "def load_audio_array(input_file, sample_rate=16000) -> ArrayLike:\n",
    "    # ffmpeg command to output raw PCM 16-bit little endian audio\n",
    "    cmd = [\n",
    "        'ffmpeg', '-i', input_file,\n",
    "        '-f', 's16le',  # PCM 16-bit little endian\n",
    "        '-ac', '1',     # mono\n",
    "        '-ar', str(sample_rate),  # sampling rate\n",
    "        '-loglevel', 'quiet',\n",
    "        '-'\n",
    "    ]\n",
    "    process = subprocess.run(cmd, stdout=subprocess.PIPE, check=True)\n",
    "    audio_bytes = process.stdout\n",
    "    audio_array = np.frombuffer(audio_bytes, np.int16).astype(np.float32)\n",
    "    audio_array /= np.max(np.abs(audio_array))  # normalize\n",
    "    return audio_array\n",
    "\n",
    "def find_offset_in_memory(fileA, fileB, sample_rate=16000):\n",
    "    dataA = load_audio_array(fileA, sample_rate)\n",
    "    dataB = load_audio_array(fileB, sample_rate)\n",
    "\n",
    "    correlation = correlate(dataB, dataA, mode='full')\n",
    "    lag = correlation.argmax() - (len(dataA) - 1)\n",
    "    return lag / sample_rate\n",
    "\n",
    "# offset = find_offset_in_memory('fileA.mp3', 'fileB.mp4')\n",
    "# print(f\"Offset: {offset:.3f} seconds\")\n",
    "\n",
    "import os\n",
    "dir_ = \"/Users/fairviewmedia/Media/Music/MultiTracks/Who You Say I Am - There Is More\"\n",
    "f1 = os.path.join(dir_, \"Who You Say I Am (Lyric Video) - Hillsong Worship [IcC1Bp13n_4].m4a\")\n",
    "f2 = os.path.join(dir_, \"G\", \"Who You Say I Am-G-with Background Vocals.m4a\")\n"
   ]
  },
  {
   "cell_type": "code",
   "execution_count": 15,
   "id": "47b0c1ab",
   "metadata": {},
   "outputs": [
    {
     "data": {
      "text/plain": [
       "array([0.0000000e+00, 0.0000000e+00, 0.0000000e+00, ..., 9.1552734e-05,\n",
       "       6.1035156e-05, 0.0000000e+00], shape=(5264800,), dtype=float32)"
      ]
     },
     "execution_count": 15,
     "metadata": {},
     "output_type": "execute_result"
    }
   ],
   "source": [
    "load_audio_array(f1)"
   ]
  },
  {
   "cell_type": "code",
   "execution_count": 11,
   "id": "8d48908b",
   "metadata": {},
   "outputs": [
    {
     "data": {
      "text/plain": [
       "np.float64(2.852375)"
      ]
     },
     "execution_count": 11,
     "metadata": {},
     "output_type": "execute_result"
    }
   ],
   "source": [
    "find_offset_in_memory(f1, f2)"
   ]
  },
  {
   "cell_type": "code",
   "execution_count": null,
   "id": "9dcc41b9",
   "metadata": {},
   "outputs": [],
   "source": [
    "# Pad Worthy by 1.4970625s"
   ]
  },
  {
   "cell_type": "code",
   "execution_count": null,
   "id": "93d692e3",
   "metadata": {},
   "outputs": [],
   "source": [
    "5.1560625"
   ]
  }
 ],
 "metadata": {
  "kernelspec": {
   "display_name": "fairviewmusic",
   "language": "python",
   "name": "python3"
  },
  "language_info": {
   "codemirror_mode": {
    "name": "ipython",
    "version": 3
   },
   "file_extension": ".py",
   "mimetype": "text/x-python",
   "name": "python",
   "nbconvert_exporter": "python",
   "pygments_lexer": "ipython3",
   "version": "3.11.12"
  }
 },
 "nbformat": 4,
 "nbformat_minor": 5
}
